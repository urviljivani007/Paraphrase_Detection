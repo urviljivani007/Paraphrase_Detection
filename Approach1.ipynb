{
  "cells": [
    {
      "cell_type": "code",
      "execution_count": null,
      "metadata": {
        "colab": {
          "base_uri": "https://localhost:8080/",
          "height": 35
        },
        "id": "c2iPjrsP7An9",
        "outputId": "069047c3-a996-4fb3-c9be-594907f528be"
      },
      "outputs": [
        {
          "name": "stderr",
          "output_type": "stream",
          "text": [
            "Using TensorFlow backend.\n"
          ]
        }
      ],
      "source": [
        "import numpy as np \n",
        "import pandas as pd \n",
        "import os\n",
        "\n",
        "from sklearn.feature_extraction.text import CountVectorizer\n",
        "from keras.preprocessing.text import Tokenizer\n",
        "from keras.preprocessing.sequence import pad_sequences\n",
        "from keras.models import Model\n",
        "from keras.layers import *\n",
        "from sklearn.model_selection import train_test_split\n",
        "from keras.utils.np_utils import to_categorical\n",
        "import re\n",
        "from keras import backend as K"
      ]
    },
    {
      "cell_type": "code",
      "execution_count": null,
      "metadata": {
        "colab": {
          "base_uri": "https://localhost:8080/",
          "height": 276
        },
        "id": "uYq7-CnV7J9J",
        "outputId": "fe294645-bf85-45b2-c23d-3a0468a6596a"
      },
      "outputs": [
        {
          "name": "stdout",
          "output_type": "stream",
          "text": [
            "\u001b[?25l\r\u001b[K     |█████▋                          | 10kB 33.5MB/s eta 0:00:01\r\u001b[K     |███████████▎                    | 20kB 5.8MB/s eta 0:00:01\r\u001b[K     |█████████████████               | 30kB 8.2MB/s eta 0:00:01\r\u001b[K     |██████████████████████▌         | 40kB 10.5MB/s eta 0:00:01\r\u001b[K     |████████████████████████████▏   | 51kB 6.7MB/s eta 0:00:01\r\u001b[K     |████████████████████████████████| 61kB 4.7MB/s \n",
            "\u001b[K     |████████████████████████████████| 122kB 24.0MB/s \n",
            "\u001b[K     |████████████████████████████████| 163kB 53.4MB/s \n",
            "\u001b[K     |████████████████████████████████| 235kB 67.8MB/s \n",
            "\u001b[K     |████████████████████████████████| 61kB 10.0MB/s \n",
            "\u001b[K     |████████████████████████████████| 61kB 9.3MB/s \n",
            "\u001b[K     |████████████████████████████████| 61kB 9.9MB/s \n",
            "\u001b[K     |████████████████████████████████| 143kB 64.3MB/s \n",
            "\u001b[K     |████████████████████████████████| 81kB 12.4MB/s \n",
            "\u001b[?25h  Building wheel for kaggle (setup.py) ... \u001b[?25l\u001b[?25hdone\n",
            "  Building wheel for python-slugify (setup.py) ... \u001b[?25l\u001b[?25hdone\n",
            "\u001b[31mERROR: google-colab 1.0.0 has requirement requests~=2.21.0, but you'll have requests 2.23.0 which is incompatible.\u001b[0m\n",
            "\u001b[31mERROR: google-colab 1.0.0 has requirement six~=1.12.0, but you'll have six 1.14.0 which is incompatible.\u001b[0m\n",
            "\u001b[31mERROR: datascience 0.10.6 has requirement folium==0.2.1, but you'll have folium 0.8.3 which is incompatible.\u001b[0m\n",
            "\u001b[31mERROR: albumentations 0.1.12 has requirement imgaug<0.2.7,>=0.2.5, but you'll have imgaug 0.2.9 which is incompatible.\u001b[0m\n"
          ]
        }
      ],
      "source": [
        "!pip install -U -q kaggle --force"
      ]
    },
    {
      "cell_type": "code",
      "execution_count": null,
      "metadata": {
        "colab": {
          "base_uri": "https://localhost:8080/",
          "height": 72,
          "resources": {
            "http://localhost:8080/nbextensions/google.colab/files.js": {
              "data": "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",
              "headers": [
                [
                  "content-type",
                  "application/javascript"
                ]
              ],
              "ok": true,
              "status": 200,
              "status_text": ""
            }
          }
        },
        "id": "8y7EyWhm7J_9",
        "outputId": "bfda5e02-b3ce-46eb-d454-cb226c8882ad"
      },
      "outputs": [
        {
          "data": {
            "text/html": [
              "\n",
              "     <input type=\"file\" id=\"files-ef317bb6-d4d0-4307-9aca-e0c2ed4f3a3b\" name=\"files[]\" multiple disabled />\n",
              "     <output id=\"result-ef317bb6-d4d0-4307-9aca-e0c2ed4f3a3b\">\n",
              "      Upload widget is only available when the cell has been executed in the\n",
              "      current browser session. Please rerun this cell to enable.\n",
              "      </output>\n",
              "      <script src=\"/nbextensions/google.colab/files.js\"></script> "
            ],
            "text/plain": [
              "<IPython.core.display.HTML object>"
            ]
          },
          "metadata": {
            "tags": []
          },
          "output_type": "display_data"
        },
        {
          "name": "stdout",
          "output_type": "stream",
          "text": [
            "Saving kaggle.json to kaggle.json\n"
          ]
        }
      ],
      "source": [
        "from google.colab import files\n",
        "f=files.upload()"
      ]
    },
    {
      "cell_type": "code",
      "execution_count": null,
      "metadata": {
        "colab": {
          "base_uri": "https://localhost:8080/",
          "height": 69
        },
        "id": "QhnDCRHa7KCi",
        "outputId": "7a15e275-c6ec-4908-d5a4-633483f9f048"
      },
      "outputs": [
        {
          "name": "stdout",
          "output_type": "stream",
          "text": [
            "Downloading nnfl-lab-4.zip to /content\n",
            "\r  0% 0.00/1.46M [00:00<?, ?B/s]\n",
            "\r100% 1.46M/1.46M [00:00<00:00, 103MB/s]\n"
          ]
        }
      ],
      "source": [
        "!mkdir -p ~/.kaggle\n",
        "!cp kaggle.json ~/.kaggle/\n",
        "!chmod 600 /root/.kaggle/kaggle.json\n",
        "#!kaggle competitions download -c nnfl-cnn-lab2\n",
        "#!kaggle competitions download -c nnfl-lab-3-nlp\n",
        "!kaggle competitions download -c nnfl-lab-4"
      ]
    },
    {
      "cell_type": "code",
      "execution_count": null,
      "metadata": {
        "colab": {
          "base_uri": "https://localhost:8080/",
          "height": 86
        },
        "id": "pqxUY8ko7KHR",
        "outputId": "9a817f70-e2c0-4503-9618-29abe87b03ad"
      },
      "outputs": [
        {
          "name": "stdout",
          "output_type": "stream",
          "text": [
            "Archive:  nnfl-lab-4.zip\n",
            "  inflating: sample_submission.csv   \n",
            "  inflating: test.csv                \n",
            "  inflating: train.csv               \n"
          ]
        }
      ],
      "source": [
        "%%bash\n",
        "cd /content\n",
        "unzip nnfl-lab-4.zip"
      ]
    },
    {
      "cell_type": "code",
      "execution_count": null,
      "metadata": {
        "colab": {
          "base_uri": "https://localhost:8080/",
          "height": 593
        },
        "id": "E-HuV-iy7KL6",
        "outputId": "4f44695e-ed78-4bf4-a88b-64a87843375c"
      },
      "outputs": [
        {
          "name": "stderr",
          "output_type": "stream",
          "text": [
            "/usr/local/lib/python3.6/dist-packages/ipykernel_launcher.py:2: FutureWarning: Passing a negative integer is deprecated in version 1.0 and will not be supported in future version. Instead, use None to not limit the column width.\n",
            "  \n"
          ]
        },
        {
          "data": {
            "text/html": [
              "<div>\n",
              "<style scoped>\n",
              "    .dataframe tbody tr th:only-of-type {\n",
              "        vertical-align: middle;\n",
              "    }\n",
              "\n",
              "    .dataframe tbody tr th {\n",
              "        vertical-align: top;\n",
              "    }\n",
              "\n",
              "    .dataframe thead th {\n",
              "        text-align: right;\n",
              "    }\n",
              "</style>\n",
              "<table border=\"1\" class=\"dataframe\">\n",
              "  <thead>\n",
              "    <tr style=\"text-align: right;\">\n",
              "      <th></th>\n",
              "      <th>ID</th>\n",
              "      <th>Sentence1</th>\n",
              "      <th>Sentence2</th>\n",
              "      <th>Class</th>\n",
              "    </tr>\n",
              "  </thead>\n",
              "  <tbody>\n",
              "    <tr>\n",
              "      <th>0</th>\n",
              "      <td>0</td>\n",
              "      <td>But instead of returning to heaven , Annie decided to join Chris in hell forever .</td>\n",
              "      <td>But instead of returning to Heaven , Chris chooses to join Annie forever in Hell .</td>\n",
              "      <td>0</td>\n",
              "    </tr>\n",
              "    <tr>\n",
              "      <th>1</th>\n",
              "      <td>1</td>\n",
              "      <td>In 2016 , Bacardi announced new branding and plans to sell their version of Havana Club nationally , which will be burned in Florida and bottled in Puerto Rico .</td>\n",
              "      <td>In 2016 , Bacardi announced new branding and plans to sell their version of Havana Club nationally , which will be distilled in Puerto Rico and bottled in Florida .</td>\n",
              "      <td>0</td>\n",
              "    </tr>\n",
              "    <tr>\n",
              "      <th>2</th>\n",
              "      <td>2</td>\n",
              "      <td>Kweku Baako Jnr had four children . One of them , Baako is a journalist and editor of the `` New Crusading Guide '' newspaper .</td>\n",
              "      <td>Baako had four children , one of whom was Kweku Baako Jnr , a journalist and editor of the newspaper `` New Crusading Guide '' .</td>\n",
              "      <td>0</td>\n",
              "    </tr>\n",
              "    <tr>\n",
              "      <th>3</th>\n",
              "      <td>3</td>\n",
              "      <td>As with the Navy , the Army has a single-track system , where officers from other Navy communities transfer over to Foreign Area Officer permanently .</td>\n",
              "      <td>Like the army , the Navy has a single-track system , where officers from other Navy communities permanently transfer to Foreign Area Officer .</td>\n",
              "      <td>0</td>\n",
              "    </tr>\n",
              "    <tr>\n",
              "      <th>4</th>\n",
              "      <td>4</td>\n",
              "      <td>Sissi units have fewer crew served weapons and more sniper rifles than regular infantry .</td>\n",
              "      <td>Sissi units have more weapons served by the crew and fewer sniper rifles than regular infantry .</td>\n",
              "      <td>0</td>\n",
              "    </tr>\n",
              "    <tr>\n",
              "      <th>5</th>\n",
              "      <td>5</td>\n",
              "      <td>However , the United States later forced other nations and American companies to restrict trade with Cuba with foreign subsidiaries .</td>\n",
              "      <td>However , the United States later pressured other nations and foreign companies with American subsidiaries to restrict trade with Cuba .</td>\n",
              "      <td>0</td>\n",
              "    </tr>\n",
              "    <tr>\n",
              "      <th>6</th>\n",
              "      <td>6</td>\n",
              "      <td>Deutsche Bahn opened a new underground tunnel to the new railway station Filderstadt on 29 September 2001 .</td>\n",
              "      <td>On 29 September 2001 , Deutsche Bahn opened a new tunnel to the new Filderstadt U-Bahn ( underground ) station .</td>\n",
              "      <td>0</td>\n",
              "    </tr>\n",
              "    <tr>\n",
              "      <th>7</th>\n",
              "      <td>7</td>\n",
              "      <td>Some Hebrew and Aramaic abbreviations may not be included here ; more may be found in the List of Hebrew abbreviations and the List of Aramaic abbreviations , respectively .</td>\n",
              "      <td>Some Hebrew and Aramaic abbreviations may not be included here , and others may be found in the list of Hebrew abbreviations or in the list of Aramaic abbreviations .</td>\n",
              "      <td>1</td>\n",
              "    </tr>\n",
              "    <tr>\n",
              "      <th>8</th>\n",
              "      <td>8</td>\n",
              "      <td>`` Yesteryear '' is the first episode of the second season of animated American science - fiction - television series .</td>\n",
              "      <td>`` Yesteryear '' is the second episode of the first season of the animated American Science - Fiction - TV series .</td>\n",
              "      <td>0</td>\n",
              "    </tr>\n",
              "    <tr>\n",
              "      <th>9</th>\n",
              "      <td>9</td>\n",
              "      <td>Principal photography took place in additional installments between July 2016 and October 2016 with small pick-up days in December 2016 and January 2017 .</td>\n",
              "      <td>Principal - Photography took place between July 2016 and October 2016 in small installments with additional collection dates in December 2016 and January 2017 .</td>\n",
              "      <td>0</td>\n",
              "    </tr>\n",
              "  </tbody>\n",
              "</table>\n",
              "</div>"
            ],
            "text/plain": [
              "   ID  ... Class\n",
              "0  0   ...  0   \n",
              "1  1   ...  0   \n",
              "2  2   ...  0   \n",
              "3  3   ...  0   \n",
              "4  4   ...  0   \n",
              "5  5   ...  0   \n",
              "6  6   ...  0   \n",
              "7  7   ...  1   \n",
              "8  8   ...  0   \n",
              "9  9   ...  0   \n",
              "\n",
              "[10 rows x 4 columns]"
            ]
          },
          "execution_count": 6,
          "metadata": {
            "tags": []
          },
          "output_type": "execute_result"
        }
      ],
      "source": [
        "data = pd.read_csv('/content/train.csv')\n",
        "pd.set_option('display.max_colwidth',-1)\n",
        "data.head(10)"
      ]
    },
    {
      "cell_type": "code",
      "execution_count": null,
      "metadata": {
        "colab": {
          "base_uri": "https://localhost:8080/",
          "height": 506
        },
        "id": "rAtCvbQsXPks",
        "outputId": "9a8dc9e6-b488-4423-9182-2d229b3787c8"
      },
      "outputs": [
        {
          "name": "stderr",
          "output_type": "stream",
          "text": [
            "/usr/local/lib/python3.6/dist-packages/ipykernel_launcher.py:2: FutureWarning: Passing a negative integer is deprecated in version 1.0 and will not be supported in future version. Instead, use None to not limit the column width.\n",
            "  \n"
          ]
        },
        {
          "data": {
            "text/html": [
              "<div>\n",
              "<style scoped>\n",
              "    .dataframe tbody tr th:only-of-type {\n",
              "        vertical-align: middle;\n",
              "    }\n",
              "\n",
              "    .dataframe tbody tr th {\n",
              "        vertical-align: top;\n",
              "    }\n",
              "\n",
              "    .dataframe thead th {\n",
              "        text-align: right;\n",
              "    }\n",
              "</style>\n",
              "<table border=\"1\" class=\"dataframe\">\n",
              "  <thead>\n",
              "    <tr style=\"text-align: right;\">\n",
              "      <th></th>\n",
              "      <th>ID</th>\n",
              "      <th>Sentence1</th>\n",
              "      <th>Sentence2</th>\n",
              "    </tr>\n",
              "  </thead>\n",
              "  <tbody>\n",
              "    <tr>\n",
              "      <th>0</th>\n",
              "      <td>16000</td>\n",
              "      <td>How do I increase the rank on my website in SEO?</td>\n",
              "      <td>What are some tips on how to increase rank in search engines?</td>\n",
              "    </tr>\n",
              "    <tr>\n",
              "      <th>1</th>\n",
              "      <td>16001</td>\n",
              "      <td>I'm a boy. I masturbate. I'm 13. Is it bad to masturbate?</td>\n",
              "      <td>Why do I masturbate when I'm stressed?</td>\n",
              "    </tr>\n",
              "    <tr>\n",
              "      <th>2</th>\n",
              "      <td>16002</td>\n",
              "      <td>The fourth season was premiered on 7 June 2010 , and like the third season was the system of competition for mixed couples .</td>\n",
              "      <td>The third season was premiered on June 7 , 2010 . Like the fourth season the system of the competition was in mixed couples .</td>\n",
              "    </tr>\n",
              "    <tr>\n",
              "      <th>3</th>\n",
              "      <td>16003</td>\n",
              "      <td>In 2003 , he moved to London and lived there for sixteen months before returning to South Africa in September 2004 .</td>\n",
              "      <td>He moved to South Africa in 2003 and lived there 16 months before returning to London in September 2004 .</td>\n",
              "    </tr>\n",
              "    <tr>\n",
              "      <th>4</th>\n",
              "      <td>16004</td>\n",
              "      <td>Shawn told Shawn that his mother was not dead and his father was still married and on the day of the wedding of Colleen and Santo , Shawn told Colleen .</td>\n",
              "      <td>Stefano told Shawn that his mother was not dead and his father was still married and on the day of Colleen and Santo 's wedding , Shawn told Colleen .</td>\n",
              "    </tr>\n",
              "    <tr>\n",
              "      <th>5</th>\n",
              "      <td>16005</td>\n",
              "      <td>She was the sister of William who was already married to David King Udall 's sister Eliza Stewart .</td>\n",
              "      <td>She was the sister of William , who had already been married to David King Udall 's sister Eliza Stewart .</td>\n",
              "    </tr>\n",
              "    <tr>\n",
              "      <th>6</th>\n",
              "      <td>16006</td>\n",
              "      <td>The river Amaradia is a tributary of the River Grui in Romania .</td>\n",
              "      <td>The Grui River is a tributary of the River Amaradia in Romania .</td>\n",
              "    </tr>\n",
              "    <tr>\n",
              "      <th>7</th>\n",
              "      <td>16007</td>\n",
              "      <td>In 2009 , Damien Ritter founded his own Funk Volume record label with Hopsin .</td>\n",
              "      <td>In 2009 , Hopsin founded his independent record label Funk Volume with Damien Ritter .</td>\n",
              "    </tr>\n",
              "    <tr>\n",
              "      <th>8</th>\n",
              "      <td>16008</td>\n",
              "      <td>He also gained popularity by replacing Archie Kao with Adam Rodriguez .</td>\n",
              "      <td>He also gained popularity by replacing Adam Rodriguez with `` and Archie Kao on '' .</td>\n",
              "    </tr>\n",
              "    <tr>\n",
              "      <th>9</th>\n",
              "      <td>16009</td>\n",
              "      <td>Darrell Fetty first married Carolyne McCoy , who is a descendant of the famous feud families ( her mother was a Hatfield , her father was a McCoy ) .</td>\n",
              "      <td>Darrell Fetty first married Carolyne McCoy , who is a descendant of the famous feuding families ( her mother was a Hatfield , her father a McCoy ) .</td>\n",
              "    </tr>\n",
              "  </tbody>\n",
              "</table>\n",
              "</div>"
            ],
            "text/plain": [
              "      ID  ...                                                                                                                                               Sentence2\n",
              "0  16000  ...  What are some tips on how to increase rank in search engines?                                                                                         \n",
              "1  16001  ...  Why do I masturbate when I'm stressed?                                                                                                                \n",
              "2  16002  ...  The third season was premiered on June 7 , 2010 . Like the fourth season the system of the competition was in mixed couples .                         \n",
              "3  16003  ...  He moved to South Africa in 2003 and lived there 16 months before returning to London in September 2004 .                                             \n",
              "4  16004  ...  Stefano told Shawn that his mother was not dead and his father was still married and on the day of Colleen and Santo 's wedding , Shawn told Colleen .\n",
              "5  16005  ...  She was the sister of William , who had already been married to David King Udall 's sister Eliza Stewart .                                            \n",
              "6  16006  ...  The Grui River is a tributary of the River Amaradia in Romania .                                                                                      \n",
              "7  16007  ...  In 2009 , Hopsin founded his independent record label Funk Volume with Damien Ritter .                                                                \n",
              "8  16008  ...  He also gained popularity by replacing Adam Rodriguez with `` and Archie Kao on '' .                                                                  \n",
              "9  16009  ...  Darrell Fetty first married Carolyne McCoy , who is a descendant of the famous feuding families ( her mother was a Hatfield , her father a McCoy ) .  \n",
              "\n",
              "[10 rows x 3 columns]"
            ]
          },
          "execution_count": 7,
          "metadata": {
            "tags": []
          },
          "output_type": "execute_result"
        }
      ],
      "source": [
        "data_test = pd.read_csv('/content/test.csv')\n",
        "pd.set_option('display.max_colwidth',-1)\n",
        "data_test.head(10)"
      ]
    },
    {
      "cell_type": "code",
      "execution_count": null,
      "metadata": {
        "colab": {
          "base_uri": "https://localhost:8080/",
          "height": 294
        },
        "id": "Mssktoig7KPB",
        "outputId": "87cf1408-5895-48a2-896a-c59b9dd2c4ae"
      },
      "outputs": [
        {
          "name": "stdout",
          "output_type": "stream",
          "text": [
            "--2020-04-28 11:18:06--  https://github.com/kmr0877/IMDB-Sentiment-Classification-CBOW-Model/raw/master/glove.6B.50d.txt.gz\n",
            "Resolving github.com (github.com)... 140.82.118.3\n",
            "Connecting to github.com (github.com)|140.82.118.3|:443... connected.\n",
            "HTTP request sent, awaiting response... 302 Found\n",
            "Location: https://raw.githubusercontent.com/kmr0877/IMDB-Sentiment-Classification-CBOW-Model/master/glove.6B.50d.txt.gz [following]\n",
            "--2020-04-28 11:18:07--  https://raw.githubusercontent.com/kmr0877/IMDB-Sentiment-Classification-CBOW-Model/master/glove.6B.50d.txt.gz\n",
            "Resolving raw.githubusercontent.com (raw.githubusercontent.com)... 151.101.0.133, 151.101.64.133, 151.101.128.133, ...\n",
            "Connecting to raw.githubusercontent.com (raw.githubusercontent.com)|151.101.0.133|:443... connected.\n",
            "HTTP request sent, awaiting response... 200 OK\n",
            "Length: 69182520 (66M) [application/octet-stream]\n",
            "Saving to: ‘glove.6B.50d.txt.gz’\n",
            "\n",
            "glove.6B.50d.txt.gz 100%[===================>]  65.98M   298MB/s    in 0.2s    \n",
            "\n",
            "2020-04-28 11:18:09 (298 MB/s) - ‘glove.6B.50d.txt.gz’ saved [69182520/69182520]\n",
            "\n"
          ]
        }
      ],
      "source": [
        "!wget https://github.com/kmr0877/IMDB-Sentiment-Classification-CBOW-Model/raw/master/glove.6B.50d.txt.gz"
      ]
    },
    {
      "cell_type": "code",
      "execution_count": null,
      "metadata": {
        "id": "VljeGKVn7KRW"
      },
      "outputs": [],
      "source": [
        "! gunzip glove.6B.50d.txt.gz"
      ]
    },
    {
      "cell_type": "code",
      "execution_count": null,
      "metadata": {
        "colab": {
          "base_uri": "https://localhost:8080/",
          "height": 780
        },
        "id": "vc-0mXSxFlYh",
        "outputId": "017ae63b-8c60-48d7-8b0f-b847746a3b90"
      },
      "outputs": [],
      "source": [
        "num_words = 30000\n",
        "tokenizer = Tokenizer(num_words=num_words, filters='!\"#$%&()*+,-./:;<=>?@[\\\\]^_`{|}~\\t\\n',\n",
        "                                   lower=True,split=' ')\n",
        "data[\"Sentence1\"]=data[\"Sentence1\"].str.lower() \n",
        "data[\"Sentence2\"]=data[\"Sentence2\"].str.lower() \n",
        "data_test[\"Sentence1\"]=data_test[\"Sentence1\"].str.lower() \n",
        "data_test[\"Sentence2\"]=data_test[\"Sentence2\"].str.lower() \n",
        "\n",
        "print(data['Sentence1'][0])\n",
        "print(data['Sentence2'][0])\n",
        "print(data_test['Sentence1'][0])\n",
        "print(data_test['Sentence2'][0])\n",
        "tokenizer.fit_on_texts(data['Sentence1'].values+data['Sentence2'].values)\n",
        "#tokenizer.fit_on_texts(data_test['tweet'].values)\n",
        "X1 = tokenizer.texts_to_sequences(data['Sentence1'].values)\n",
        "X2 = tokenizer.texts_to_sequences(data['Sentence2'].values)\n",
        "X1_test = tokenizer.texts_to_sequences(data_test['Sentence1'].values)\n",
        "X2_test = tokenizer.texts_to_sequences(data_test['Sentence2'].values)\n",
        "#X_test = tokenizer.texts_to_sequences(data_test['tweet'].values)\n",
        "print(X1[0])\n",
        "print(X2[0])\n",
        "print(X1_test[0])\n",
        "print(X2_test[0])\n",
        "word_index = tokenizer.word_index\n",
        "print('Found %s unique tokens.' % len(word_index))\n",
        "\n",
        "max_length_of_text = 100\n",
        "X1 = pad_sequences(X1, maxlen=max_length_of_text)\n",
        "X2 = pad_sequences(X2, maxlen=max_length_of_text)\n",
        "X1_test = pad_sequences(X1_test, maxlen=max_length_of_text)\n",
        "X2_test = pad_sequences(X2_test, maxlen=max_length_of_text)\n",
        "#X_Test = pad_sequences(X_test, maxlen=max_length_of_text)\n",
        "print(word_index)\n",
        "print(\"Padded Sequences: \")\n",
        "print(X1)\n",
        "print(X1[0])\n",
        "print(X2)\n",
        "print(X2[0])\n",
        "y = data['Class']"
      ]
    },
    {
      "cell_type": "code",
      "execution_count": null,
      "metadata": {
        "colab": {
          "base_uri": "https://localhost:8080/",
          "height": 207
        },
        "id": "sp0LCrpd7KUL",
        "outputId": "84b0cc17-28cc-4faf-aeac-750de1f4de8c"
      },
      "outputs": [
        {
          "name": "stdout",
          "output_type": "stream",
          "text": [
            "Found 400000 word vectors in pretrained word vector model.\n",
            "Dimensions of the vector space :  50\n",
            "the vector space :  [ 4.1800e-01  2.4968e-01 -4.1242e-01  1.2170e-01  3.4527e-01 -4.4457e-02\n",
            " -4.9688e-01 -1.7862e-01 -6.6023e-04 -6.5660e-01  2.7843e-01 -1.4767e-01\n",
            " -5.5677e-01  1.4658e-01 -9.5095e-03  1.1658e-02  1.0204e-01 -1.2792e-01\n",
            " -8.4430e-01 -1.2181e-01 -1.6801e-02 -3.3279e-01 -1.5520e-01 -2.3131e-01\n",
            " -1.9181e-01 -1.8823e+00 -7.6746e-01  9.9051e-02 -4.2125e-01 -1.9526e-01\n",
            "  4.0071e+00 -1.8594e-01 -5.2287e-01 -3.1681e-01  5.9213e-04  7.4449e-03\n",
            "  1.7778e-01 -1.5897e-01  1.2041e-02 -5.4223e-02 -2.9871e-01 -1.5749e-01\n",
            " -3.4758e-01 -4.5637e-02 -4.4251e-01  1.8785e-01  2.7849e-03 -1.8411e-01\n",
            " -1.1514e-01 -7.8581e-01]\n"
          ]
        }
      ],
      "source": [
        "embeddings_index = {}\n",
        "f = open('glove.6B.50d.txt')\n",
        "for line in f:\n",
        "    values = line.split()\n",
        "    word = values[0]\n",
        "    coefs = np.asarray(values[1:], dtype='float32')\n",
        "    embeddings_index[word] = coefs\n",
        "f.close()\n",
        "\n",
        "print('Found %s word vectors in pretrained word vector model.' % len(embeddings_index))\n",
        "print('Dimensions of the vector space : ', len(embeddings_index['the']))\n",
        "print('the vector space : ', embeddings_index['the'])"
      ]
    },
    {
      "cell_type": "code",
      "execution_count": null,
      "metadata": {
        "id": "0cpa0nvyKZsC"
      },
      "outputs": [],
      "source": [
        "EMBEDDING_DIM = 50\n",
        "embedding_matrix = np.zeros((len(word_index) + 1, EMBEDDING_DIM))\n",
        "for word, i in word_index.items():\n",
        "    embedding_vector = embeddings_index.get(word)\n",
        "    if embedding_vector is not None:\n",
        "        # words not found in embedding index will be all-zeros.\n",
        "        embedding_matrix[i] = embedding_vector"
      ]
    },
    {
      "cell_type": "code",
      "execution_count": null,
      "metadata": {
        "id": "HRindP-iKcdi"
      },
      "outputs": [],
      "source": [
        "#from keras.layers import Embedding\n",
        "\n",
        "#embedding_layer = Embedding(len(word_index) + 1,\n",
        "#                            EMBEDDING_DIM,\n",
        "#                            weights=[embedding_matrix],\n",
        "#                            input_length=max_length_of_text,\n",
        "#                            trainable=True)"
      ]
    },
    {
      "cell_type": "code",
      "execution_count": null,
      "metadata": {
        "id": "mne-pZa28YuZ"
      },
      "outputs": [],
      "source": [
        "# import numpy\n",
        "# from keras.datasets import imdb\n",
        "# from keras.models import Sequential\n",
        "# from keras.layers import Dense\n",
        "# from keras.layers import LSTM\n",
        "# from keras.layers.convolutional import Conv1D\n",
        "# from keras.layers.convolutional import MaxPooling1D\n",
        "# from keras.layers.embeddings import Embedding\n",
        "# from keras.preprocessing import sequence\n",
        "# # fix random seed for reproducibility\n",
        "# #numpy.random.seed(7)\n",
        "# # load the dataset but only keep the top n words, zero the rest\n",
        "# #top_words = 5000\n",
        "# #(X_train, y_train), (X_test, y_test) = imdb.load_data(num_words=top_words)\n",
        "# # truncate and pad input sequences\n",
        "# #max_review_length = 500\n",
        "# #X_train = sequence.pad_sequences(X_train, maxlen=max_review_length)\n",
        "# #X_test = sequence.pad_sequences(X_test, maxlen=max_review_length)\n",
        "# # create the model\n",
        "# #embedding_vecor_length = 32\n",
        "# model = Sequential()\n",
        "# model.add(embedding_layer = Embedding(len(word_index) + 1,\n",
        "#                             EMBEDDING_DIM,\n",
        "#                             weights=[embedding_matrix],\n",
        "#                             input_length=max_length_of_text,\n",
        "#                             trainable=True))\n",
        "# model.add(Conv1D(filters=32, kernel_size=3, padding='same', activation='relu'))\n",
        "# model.add(MaxPooling1D(pool_size=2))\n",
        "# model.add(LSTM(256,dropout=0.5, recurrent_dropout=0.5))\n",
        "# model.add(Dense(1, activation='sigmoid'))\n",
        "# model.compile(loss='binary_crossentropy', optimizer='adam', metrics=['accuracy'])\n",
        "# print(model.summary())\n",
        "# model.fit(X_train, y_train, epochs=3, batch_size=64)\n",
        "# # Final evaluation of the model\n",
        "# scores = model.evaluate(X_test, y_test, verbose=0)\n",
        "# print(\"Accuracy: %.2f%%\" % (scores[1]*100))"
      ]
    },
    {
      "cell_type": "code",
      "execution_count": null,
      "metadata": {
        "id": "lw2d6drZhE9Y"
      },
      "outputs": [],
      "source": [
        "# from keras.layers import Conv1D,MaxPooling1D,Flatten,GlobalAveragePooling1D,BatchNormalization,Dropout\n",
        "# from keras.layers import concatenate,Lambda\n",
        "# from keras import backend as K\n",
        "# lstm_out=128\n",
        "# def model_conv1D_(emb_matrix):\n",
        "    \n",
        "#     # The embedding layer containing the word vectors\n",
        "#     emb_layer = Embedding(\n",
        "#         input_dim=emb_matrix.shape[0],\n",
        "#         output_dim=emb_matrix.shape[1],\n",
        "#         weights=[emb_matrix],\n",
        "#         input_length=max_length_of_text,\n",
        "#         trainable=True\n",
        "#     )\n",
        "#     # Define inputs\n",
        "#     seq1 = Input(shape=(200,))\n",
        "#     seq2 = Input(shape=(200,))\n",
        "\n",
        "#     # Run inputs through embedding\n",
        "#     emb1 = emb_layer(seq1)\n",
        "#     emb2 = emb_layer(seq2)\n",
        "\n",
        "#     mergea = Conv1D(filters=64, kernel_size=3, padding='same', activation='relu')(emb1)\n",
        "#     mergea = MaxPooling1D(pool_size=2)(mergea)\n",
        "#     mergea = Dropout(0.5)(mergea)\n",
        "#     mergea = LSTM(256, dropout=0.5, recurrent_dropout=0.5, return_sequences=False)(mergea)\n",
        "#     mergeb = Conv1D(filters=64, kernel_size=3, padding='same', activation='relu')(emb2)\n",
        "#     mergeb = MaxPooling1D(pool_size=2)(mergeb)\n",
        "#     mergeb = Dropout(0.5)(mergeb)\n",
        "#     mergeb = LSTM(256, dropout=0.5, recurrent_dropout=0.5, return_sequences=False)(mergeb)\n",
        "    \n",
        "#     # We take the explicit absolute difference between the two sentences\n",
        "#     # Furthermore we take the multiple of different entries to get a different measure of equalness\n",
        "#     diff = Lambda(lambda x: K.abs(x[0] - x[1]), output_shape=(256,))([mergea, mergeb])\n",
        "#     mul = Lambda(lambda x: x[0] * x[1], output_shape=(256,))([mergea, mergeb])\n",
        " \n",
        "#     merge = concatenate([diff, mul])\n",
        "    \n",
        "#     # The MLP that determines the outcome\n",
        "#     x = Dropout(0.5)(merge)\n",
        "#     x = BatchNormalization()(x)\n",
        "#     x = Dense(1024, activation='relu')(x)\n",
        "#     x = Dropout(0.5)(x)\n",
        "#     x = Dense(256, activation='relu')(x)\n",
        "#     x = Dropout(0.5)(x)\n",
        "#     x = Dense(64, activation='relu')(x)\n",
        "#     x = Dropout(0.5)(x)\n",
        "#     x = BatchNormalization()(x)\n",
        "#     pred = Dense(1, activation='sigmoid')(x)\n",
        "#     model = Model(inputs=[seq1, seq2], outputs=pred)#, magic_input, distance_input], outputs=pred)\n",
        "#     model.compile(loss='binary_crossentropy', optimizer='adam', metrics=['acc'])\n",
        "\n",
        "#     return model"
      ]
    },
    {
      "cell_type": "code",
      "execution_count": null,
      "metadata": {
        "id": "B4d7_Wra7Kbd"
      },
      "outputs": [],
      "source": [
        "# from keras.layers import Conv1D,MaxPooling1D,Flatten,GlobalAveragePooling1D,BatchNormalization,Dropout\n",
        "# from keras.layers import concatenate,Lambda\n",
        "# from keras import backend as K\n",
        "# from keras.regularizers import l2\n",
        "\n",
        "# lstm_out=128\n",
        "# def model_conv1D_(emb_matrix):\n",
        "#     emb_layer = Embedding(\n",
        "#         input_dim=emb_matrix.shape[0],\n",
        "#         output_dim=emb_matrix.shape[1],\n",
        "#         weights=[emb_matrix],\n",
        "#         input_length=max_length_of_text,\n",
        "#         trainable=True\n",
        "#     )\n",
        "    \n",
        "    \n",
        "#     seq1 = Input(shape=(200,))\n",
        "#     seq2 = Input(shape=(200,))\n",
        "\n",
        "    \n",
        "#     emb1 = emb_layer(seq1)\n",
        "#     emb2 = emb_layer(seq2)\n",
        "\n",
        "    \n",
        "\n",
        "#     conv1a = conv1(emb1)\n",
        "#     glob1a = GlobalAveragePooling1D()(conv1a)\n",
        "    \n",
        "#     conv1b = conv1(emb2)\n",
        "#     glob1b = GlobalAveragePooling1D()(conv1b)\n",
        "    \n",
        "\n",
        "#     conv2a = conv2(emb1)\n",
        "#     glob2a = GlobalAveragePooling1D()(conv2a)\n",
        "    \n",
        "#     conv2b = conv2(emb2)\n",
        "#     glob2b = GlobalAveragePooling1D()(conv2b)\n",
        "    \n",
        "\n",
        "#     conv3a = conv3(emb1)\n",
        "#     glob3a = GlobalAveragePooling1D()(conv3a)\n",
        "    \n",
        "#     conv3b = conv3(emb2)\n",
        "#     glob3b = GlobalAveragePooling1D()(conv3b)\n",
        "    \n",
        "\n",
        "#     conv4a = conv4(emb1)\n",
        "#     glob4a = GlobalAveragePooling1D()(conv4a)\n",
        "    \n",
        "#     conv4b = conv4(emb2)\n",
        "#     glob4b = GlobalAveragePooling1D()(conv4b)\n",
        "    \n",
        "\n",
        "#     conv5a = conv5(emb1)\n",
        "#     glob5a = GlobalAveragePooling1D()(conv5a)\n",
        "    \n",
        "#     conv5b = conv5(emb2)\n",
        "#     glob5b = GlobalAveragePooling1D()(conv5b)\n",
        "\n",
        "#     mergea = concatenate([glob1a, glob2a, glob3a, glob4a, glob5a])\n",
        "#     mergeb = concatenate([glob1b, glob2b, glob3b, glob4b, glob5b])\n",
        "\n",
        "    \n",
        "    \n",
        "#     diff = Lambda(lambda x: K.abs(x[0] - x[1]), output_shape=(2 * 256 + 2*64 +2*512,))([mergea, mergeb])\n",
        "#     mul = Lambda(lambda x: x[0] * x[1], output_shape=(2 * 256 + 2*64 +2*512,))([mergea, mergeb])\n",
        "    \n",
        "#     merge = concatenate([diff, mul])\n",
        "\n",
        "    \n",
        "#     x = Dropout(0.5)(merge)\n",
        "#     x = BatchNormalization()(x)\n",
        "    \n",
        "#     x = Dense(1024, activation='relu')(x)\n",
        "#     x = Dropout(0.2)(x)\n",
        "#     x = Dense(64, activation='relu')(x)\n",
        "#     x = Dropout(0.2)(x)\n",
        "#     x = BatchNormalization()(x)\n",
        "#     pred = Dense(1, activation='sigmoid')(x)\n",
        "\n",
        "#     model = Model(inputs=[seq1, seq2], outputs=pred)\n",
        "#     model.compile(loss='binary_crossentropy', optimizer='adam', metrics=['acc'])\n",
        "\n",
        "#     return model"
      ]
    },
    {
      "cell_type": "code",
      "execution_count": null,
      "metadata": {
        "id": "Aq443AjW7KaI"
      },
      "outputs": [],
      "source": [
        "# model=model_conv1D_(embedding_matrix)"
      ]
    },
    {
      "cell_type": "code",
      "execution_count": null,
      "metadata": {
        "id": "Ea0n_sLFnc7Y"
      },
      "outputs": [],
      "source": []
    },
    {
      "cell_type": "code",
      "execution_count": null,
      "metadata": {
        "id": "6gBccf5REwVv"
      },
      "outputs": [],
      "source": []
    },
    {
      "cell_type": "code",
      "execution_count": null,
      "metadata": {
        "id": "khDkXU1Gnc-o"
      },
      "outputs": [],
      "source": [
        "def exponent_neg_manhattan_distance(left, right):\n",
        "    return K.exp(-K.sum(K.abs(left-right), axis=1, keepdims=True))"
      ]
    },
    {
      "cell_type": "code",
      "execution_count": null,
      "metadata": {
        "colab": {
          "base_uri": "https://localhost:8080/",
          "height": 35
        },
        "id": "u7-T_krQl2FV",
        "outputId": "87f7940c-5dad-4419-c4a1-9d097318714e"
      },
      "outputs": [
        {
          "name": "stdout",
          "output_type": "stream",
          "text": [
            "(None, 1)\n"
          ]
        }
      ],
      "source": [
        "# The visible layer\n",
        "left_input = Input(shape=(max_length_of_text,), dtype='int32')\n",
        "right_input = Input(shape=(max_length_of_text,), dtype='int32')\n",
        "\n",
        "embedding_layer = Embedding(len(embedding_matrix),50, weights=[embedding_matrix], input_length=max_length_of_text,trainable=False)\n",
        "\n",
        "# Embedded version of the inputs\n",
        "encoded_left = embedding_layer(left_input)\n",
        "encoded_right = embedding_layer(right_input)\n",
        "\n",
        "# Since this is a siamese network, both sides share the same LSTM\n",
        "shared_lstm = LSTM(50)\n",
        "\n",
        "left_output = shared_lstm(encoded_left)\n",
        "right_output = shared_lstm(encoded_right)\n",
        "\n",
        "# Calculates the distance as defined by the MaLSTM model\n",
        "malstm_distance = Lambda(function=lambda x: exponent_neg_manhattan_distance(x[0], x[1]),output_shape=lambda x: (x[0][0], 1))([left_output, right_output])\n",
        "print(malstm_distance.shape)\n",
        "# Pack it all up into a model\n",
        "malstm = Model([left_input, right_input], [malstm_distance])"
      ]
    },
    {
      "cell_type": "code",
      "execution_count": null,
      "metadata": {
        "colab": {
          "base_uri": "https://localhost:8080/",
          "height": 380
        },
        "id": "aUuQMCiqQcfr",
        "outputId": "446106db-bc4d-494b-a83b-c184c5f3187a"
      },
      "outputs": [
        {
          "name": "stdout",
          "output_type": "stream",
          "text": [
            "Model: \"model_1\"\n",
            "__________________________________________________________________________________________________\n",
            "Layer (type)                    Output Shape         Param #     Connected to                     \n",
            "==================================================================================================\n",
            "input_1 (InputLayer)            (None, 100)          0                                            \n",
            "__________________________________________________________________________________________________\n",
            "input_2 (InputLayer)            (None, 100)          0                                            \n",
            "__________________________________________________________________________________________________\n",
            "embedding_1 (Embedding)         (None, 100, 50)      1503650     input_1[0][0]                    \n",
            "                                                                 input_2[0][0]                    \n",
            "__________________________________________________________________________________________________\n",
            "lstm_1 (LSTM)                   (None, 64)           29440       embedding_1[0][0]                \n",
            "                                                                 embedding_1[1][0]                \n",
            "__________________________________________________________________________________________________\n",
            "lambda_1 (Lambda)               (None, 1)            0           lstm_1[0][0]                     \n",
            "                                                                 lstm_1[1][0]                     \n",
            "==================================================================================================\n",
            "Total params: 1,533,090\n",
            "Trainable params: 29,440\n",
            "Non-trainable params: 1,503,650\n",
            "__________________________________________________________________________________________________\n"
          ]
        }
      ],
      "source": [
        "malstm.summary()"
      ]
    },
    {
      "cell_type": "code",
      "execution_count": null,
      "metadata": {
        "id": "6ypEAPt_phOy"
      },
      "outputs": [],
      "source": [
        "from keras.optimizers import Adadelta , Adam\n",
        "optimizer = Adam(lr = 0.1)\n",
        "\n",
        "malstm.compile(loss='mean_squared_error', optimizer='adam', metrics=['acc'])"
      ]
    },
    {
      "cell_type": "code",
      "execution_count": null,
      "metadata": {
        "id": "GQOje33pQ4xM"
      },
      "outputs": [],
      "source": [
        "from keras.callbacks import EarlyStopping, ModelCheckpoint, ReduceLROnPlateau\n",
        "# earlystop = EarlyStopping(monitor = 'val_acc', patience=4)\n",
        "learning_rate_reduction = ReduceLROnPlateau(monitor='val_loss', patience=3 , verbose=1, factor=0.6, min_lr=0.00001)\n",
        "mc = ModelCheckpoint('/content/drive/My Drive/NNFL/NLP/Lab4/day5_model_personalID_3.h5', monitor = 'val_loss', verbose = 1, save_best_only = True, save_weights_only = True)"
      ]
    },
    {
      "cell_type": "code",
      "execution_count": null,
      "metadata": {
        "colab": {
          "base_uri": "https://localhost:8080/",
          "height": 1000
        },
        "id": "0OeFGIdm7KWi",
        "outputId": "cf89110b-5f39-4519-f062-63b35acc493a"
      },
      "outputs": [
        {
          "name": "stdout",
          "output_type": "stream",
          "text": [
            "Train on 14400 samples, validate on 1600 samples\n",
            "Epoch 1/30\n",
            "14400/14400 [==============================] - 69s 5ms/step - loss: 0.0648 - acc: 0.8193 - val_loss: 0.0879 - val_acc: 0.7281\n",
            "\n",
            "Epoch 00001: val_loss improved from inf to 0.08788, saving model to /content/drive/My Drive/NNFL/NLP/Lab4/day5_model_personalID_3.h5\n",
            "Epoch 2/30\n",
            "14400/14400 [==============================] - 69s 5ms/step - loss: 0.0640 - acc: 0.8223 - val_loss: 0.0879 - val_acc: 0.7256\n",
            "\n",
            "Epoch 00002: val_loss did not improve from 0.08788\n",
            "Epoch 3/30\n",
            "14400/14400 [==============================] - 67s 5ms/step - loss: 0.0634 - acc: 0.8256 - val_loss: 0.0886 - val_acc: 0.7163\n",
            "\n",
            "Epoch 00003: val_loss did not improve from 0.08788\n",
            "Epoch 4/30\n",
            "14400/14400 [==============================] - 68s 5ms/step - loss: 0.0631 - acc: 0.8245 - val_loss: 0.0885 - val_acc: 0.7231\n",
            "\n",
            "Epoch 00004: val_loss did not improve from 0.08788\n",
            "\n",
            "Epoch 00004: ReduceLROnPlateau reducing learning rate to 0.0006000000284984708.\n",
            "Epoch 5/30\n",
            "14400/14400 [==============================] - 69s 5ms/step - loss: 0.0609 - acc: 0.8352 - val_loss: 0.0877 - val_acc: 0.7206\n",
            "\n",
            "Epoch 00005: val_loss improved from 0.08788 to 0.08767, saving model to /content/drive/My Drive/NNFL/NLP/Lab4/day5_model_personalID_3.h5\n",
            "Epoch 6/30\n",
            "14400/14400 [==============================] - 67s 5ms/step - loss: 0.0603 - acc: 0.8369 - val_loss: 0.0889 - val_acc: 0.7119\n",
            "\n",
            "Epoch 00006: val_loss did not improve from 0.08767\n",
            "Epoch 7/30\n",
            "14400/14400 [==============================] - 69s 5ms/step - loss: 0.0598 - acc: 0.8404 - val_loss: 0.0885 - val_acc: 0.7225\n",
            "\n",
            "Epoch 00007: val_loss did not improve from 0.08767\n",
            "Epoch 8/30\n",
            "14400/14400 [==============================] - 69s 5ms/step - loss: 0.0597 - acc: 0.8402 - val_loss: 0.0879 - val_acc: 0.7244\n",
            "\n",
            "Epoch 00008: val_loss did not improve from 0.08767\n",
            "\n",
            "Epoch 00008: ReduceLROnPlateau reducing learning rate to 0.0003600000170990825.\n",
            "Epoch 9/30\n",
            "14400/14400 [==============================] - 68s 5ms/step - loss: 0.0581 - acc: 0.8460 - val_loss: 0.0883 - val_acc: 0.7125\n",
            "\n",
            "Epoch 00009: val_loss did not improve from 0.08767\n",
            "Epoch 10/30\n",
            "14400/14400 [==============================] - 68s 5ms/step - loss: 0.0576 - acc: 0.8485 - val_loss: 0.0877 - val_acc: 0.7106\n",
            "\n",
            "Epoch 00010: val_loss improved from 0.08767 to 0.08765, saving model to /content/drive/My Drive/NNFL/NLP/Lab4/day5_model_personalID_3.h5\n",
            "Epoch 11/30\n",
            "14400/14400 [==============================] - 67s 5ms/step - loss: 0.0574 - acc: 0.8497 - val_loss: 0.0881 - val_acc: 0.7150\n",
            "\n",
            "Epoch 00011: val_loss did not improve from 0.08765\n",
            "\n",
            "Epoch 00011: ReduceLROnPlateau reducing learning rate to 0.00021600000327453016.\n",
            "Epoch 12/30\n",
            "14400/14400 [==============================] - 69s 5ms/step - loss: 0.0565 - acc: 0.8528 - val_loss: 0.0877 - val_acc: 0.7150\n",
            "\n",
            "Epoch 00012: val_loss did not improve from 0.08765\n",
            "Epoch 13/30\n",
            "14400/14400 [==============================] - 69s 5ms/step - loss: 0.0562 - acc: 0.8540 - val_loss: 0.0880 - val_acc: 0.7075\n",
            "\n",
            "Epoch 00013: val_loss did not improve from 0.08765\n",
            "Epoch 14/30\n",
            "14400/14400 [==============================] - 69s 5ms/step - loss: 0.0561 - acc: 0.8540 - val_loss: 0.0879 - val_acc: 0.7131\n",
            "\n",
            "Epoch 00014: val_loss did not improve from 0.08765\n",
            "\n",
            "Epoch 00014: ReduceLROnPlateau reducing learning rate to 0.00012960000021848827.\n",
            "Epoch 15/30\n",
            "14400/14400 [==============================] - 67s 5ms/step - loss: 0.0555 - acc: 0.8568 - val_loss: 0.0879 - val_acc: 0.7088\n",
            "\n",
            "Epoch 00015: val_loss did not improve from 0.08765\n",
            "Epoch 16/30\n",
            "14400/14400 [==============================] - 68s 5ms/step - loss: 0.0553 - acc: 0.8582 - val_loss: 0.0879 - val_acc: 0.7125\n",
            "\n",
            "Epoch 00016: val_loss did not improve from 0.08765\n",
            "Epoch 17/30\n",
            "14400/14400 [==============================] - 69s 5ms/step - loss: 0.0552 - acc: 0.8575 - val_loss: 0.0882 - val_acc: 0.7100\n",
            "\n",
            "Epoch 00017: val_loss did not improve from 0.08765\n",
            "\n",
            "Epoch 00017: ReduceLROnPlateau reducing learning rate to 7.775999838486313e-05.\n",
            "Epoch 18/30\n",
            "14400/14400 [==============================] - 67s 5ms/step - loss: 0.0548 - acc: 0.8601 - val_loss: 0.0880 - val_acc: 0.7088\n",
            "\n",
            "Epoch 00018: val_loss did not improve from 0.08765\n",
            "Epoch 19/30\n",
            "14400/14400 [==============================] - 68s 5ms/step - loss: 0.0547 - acc: 0.8601 - val_loss: 0.0880 - val_acc: 0.7094\n",
            "\n",
            "Epoch 00019: val_loss did not improve from 0.08765\n",
            "Epoch 20/30\n",
            "14400/14400 [==============================] - 68s 5ms/step - loss: 0.0546 - acc: 0.8604 - val_loss: 0.0881 - val_acc: 0.7094\n",
            "\n",
            "Epoch 00020: val_loss did not improve from 0.08765\n",
            "\n",
            "Epoch 00020: ReduceLROnPlateau reducing learning rate to 4.6655999904032795e-05.\n",
            "Epoch 21/30\n",
            "14400/14400 [==============================] - 68s 5ms/step - loss: 0.0544 - acc: 0.8613 - val_loss: 0.0881 - val_acc: 0.7094\n",
            "\n",
            "Epoch 00021: val_loss did not improve from 0.08765\n",
            "Epoch 22/30\n",
            "14400/14400 [==============================] - 69s 5ms/step - loss: 0.0543 - acc: 0.8613 - val_loss: 0.0880 - val_acc: 0.7119\n",
            "\n",
            "Epoch 00022: val_loss did not improve from 0.08765\n",
            "Epoch 23/30\n",
            "14400/14400 [==============================] - 68s 5ms/step - loss: 0.0543 - acc: 0.8615 - val_loss: 0.0879 - val_acc: 0.7113\n",
            "\n",
            "Epoch 00023: val_loss did not improve from 0.08765\n",
            "\n",
            "Epoch 00023: ReduceLROnPlateau reducing learning rate to 2.799360081553459e-05.\n",
            "Epoch 24/30\n",
            "14400/14400 [==============================] - 67s 5ms/step - loss: 0.0541 - acc: 0.8627 - val_loss: 0.0880 - val_acc: 0.7100\n",
            "\n",
            "Epoch 00024: val_loss did not improve from 0.08765\n",
            "Epoch 25/30\n",
            "14400/14400 [==============================] - 68s 5ms/step - loss: 0.0541 - acc: 0.8623 - val_loss: 0.0880 - val_acc: 0.7094\n",
            "\n",
            "Epoch 00025: val_loss did not improve from 0.08765\n",
            "Epoch 26/30\n",
            "14400/14400 [==============================] - 68s 5ms/step - loss: 0.0541 - acc: 0.8631 - val_loss: 0.0880 - val_acc: 0.7100\n",
            "\n",
            "Epoch 00026: val_loss did not improve from 0.08765\n",
            "\n",
            "Epoch 00026: ReduceLROnPlateau reducing learning rate to 1.6796160707599483e-05.\n",
            "Epoch 27/30\n",
            "14400/14400 [==============================] - 67s 5ms/step - loss: 0.0540 - acc: 0.8636 - val_loss: 0.0881 - val_acc: 0.7113\n",
            "\n",
            "Epoch 00027: val_loss did not improve from 0.08765\n",
            "Epoch 28/30\n",
            "14400/14400 [==============================] - 68s 5ms/step - loss: 0.0540 - acc: 0.8627 - val_loss: 0.0880 - val_acc: 0.7100\n",
            "\n",
            "Epoch 00028: val_loss did not improve from 0.08765\n",
            "Epoch 29/30\n",
            "14400/14400 [==============================] - 69s 5ms/step - loss: 0.0540 - acc: 0.8636 - val_loss: 0.0881 - val_acc: 0.7094\n",
            "\n",
            "Epoch 00029: val_loss did not improve from 0.08765\n",
            "\n",
            "Epoch 00029: ReduceLROnPlateau reducing learning rate to 1.007769642455969e-05.\n",
            "Epoch 30/30\n",
            "14400/14400 [==============================] - 68s 5ms/step - loss: 0.0539 - acc: 0.8633 - val_loss: 0.0881 - val_acc: 0.7100\n",
            "\n",
            "Epoch 00030: val_loss did not improve from 0.08765\n"
          ]
        }
      ],
      "source": [
        "malstm.load_weights('/content/drive/My Drive/NNFL/NLP/Lab4/day5_model_personalID_3.h5')\n",
        "epochs=30\n",
        "history=malstm.fit(\n",
        "x=[X1, X2],\n",
        "y=y, batch_size=64,\n",
        "epochs=epochs,\n",
        "verbose=1,\n",
        "# callbacks=[checkpoint],\n",
        "validation_split=0.1, shuffle=True, \n",
        "class_weight={0: 0.5333, 1: 0.4472},\n",
        "callbacks=[mc,learning_rate_reduction],\n",
        ")"
      ]
    },
    {
      "cell_type": "code",
      "execution_count": null,
      "metadata": {
        "colab": {
          "base_uri": "https://localhost:8080/",
          "height": 873
        },
        "id": "yos2yQr4Q41D",
        "outputId": "403b485b-abb1-4126-decd-605a101b68d8"
      },
      "outputs": [
        {
          "data": {
            "image/png": "[encoded data removed]",
            "text/plain": [
              "<Figure size 864x864 with 2 Axes>"
            ]
          },
          "metadata": {
            "needs_background": "light",
            "tags": []
          },
          "output_type": "display_data"
        }
      ],
      "source": [
        "import pandas as pd\n",
        "import numpy as np \n",
        "import matplotlib.pyplot as plt\n",
        "import os\n",
        "from urllib.request import urlopen,urlretrieve\n",
        "from PIL import Image\n",
        "from tqdm import tqdm_notebook\n",
        "%matplotlib inline\n",
        "from sklearn.utils import shuffle\n",
        "import cv2\n",
        "\n",
        "fig, (ax1, ax2) = plt.subplots(2, 1, figsize=(12, 12))\n",
        "ax1.plot(history.history['loss'], color='b', label=\"Training loss\")\n",
        "ax1.plot(history.history['val_loss'], color='r', label=\"validation loss\")\n",
        "ax1.set_xticks(np.arange(1, epochs, 1))\n",
        "ax1.set_yticks(np.arange(0, 1, 0.1))\n",
        "\n",
        "ax2.plot(history.history['acc'], color='b', label=\"Training accuracy\")\n",
        "ax2.plot(history.history['val_acc'], color='r',label=\"Validation accuracy\")\n",
        "ax2.set_xticks(np.arange(1, epochs, 1))\n",
        "\n",
        "legend = plt.legend(loc='best', shadow=True)\n",
        "plt.tight_layout()\n",
        "plt.show()"
      ]
    },
    {
      "cell_type": "code",
      "execution_count": null,
      "metadata": {
        "id": "j9ur3hO9Q48_"
      },
      "outputs": [],
      "source": [
        "y_test = malstm.predict([X1_test,X2_test], batch_size = 128)"
      ]
    },
    {
      "cell_type": "code",
      "execution_count": null,
      "metadata": {
        "colab": {
          "base_uri": "https://localhost:8080/",
          "height": 138
        },
        "id": "AxHo559xQ47-",
        "outputId": "8db98a5a-06e8-4477-bed6-15cb550d9a88"
      },
      "outputs": [
        {
          "name": "stdout",
          "output_type": "stream",
          "text": [
            "[[0.06403356]\n",
            " [0.40806824]\n",
            " [0.5946079 ]\n",
            " ...\n",
            " [0.35154   ]\n",
            " [0.2578276 ]\n",
            " [0.3721447 ]]\n"
          ]
        }
      ],
      "source": [
        "import sys\n",
        "import numpy\n",
        "numpy.set_printoptions(threshold=1000)\n",
        "print(y_test)"
      ]
    },
    {
      "cell_type": "code",
      "execution_count": null,
      "metadata": {
        "id": "yznI7W_zZAWb"
      },
      "outputs": [],
      "source": [
        "for i in range(y_test.shape[0]):\n",
        "  if y_test[i]>0.5:\n",
        "    y_test[i]=1\n",
        "  else:\n",
        "    y_test[i]=0"
      ]
    },
    {
      "cell_type": "code",
      "execution_count": null,
      "metadata": {
        "colab": {
          "base_uri": "https://localhost:8080/",
          "height": 138
        },
        "id": "whAGzhNRdo98",
        "outputId": "72eb6163-1e61-44af-ce41-21b29297ec1e"
      },
      "outputs": [
        {
          "name": "stdout",
          "output_type": "stream",
          "text": [
            "[[0]\n",
            " [0]\n",
            " [1]\n",
            " ...\n",
            " [0]\n",
            " [0]\n",
            " [0]]\n"
          ]
        }
      ],
      "source": [
        "import sys\n",
        "import numpy\n",
        "numpy.set_printoptions(threshold=1000)\n",
        "print(y_test.astype(int))"
      ]
    },
    {
      "cell_type": "code",
      "execution_count": null,
      "metadata": {
        "colab": {
          "base_uri": "https://localhost:8080/",
          "height": 52
        },
        "id": "XbytogOLGkwa",
        "outputId": "3f6adc25-193d-4a38-cc78-7c8b5e2cdd1b"
      },
      "outputs": [
        {
          "name": "stdout",
          "output_type": "stream",
          "text": [
            "[1755]\n",
            "[2945]\n"
          ]
        }
      ],
      "source": [
        "print(sum(y_test==1))\n",
        "print(sum(y_test==0))"
      ]
    },
    {
      "cell_type": "code",
      "execution_count": null,
      "metadata": {
        "id": "gHvyrB1Pe1B6"
      },
      "outputs": [],
      "source": [
        "del data_test['Sentence1']\n",
        "del data_test['Sentence2']"
      ]
    },
    {
      "cell_type": "code",
      "execution_count": null,
      "metadata": {
        "id": "RwwrfQv0fEQ7"
      },
      "outputs": [],
      "source": [
        "data_test['Class']=y_test.astype(int)"
      ]
    },
    {
      "cell_type": "code",
      "execution_count": null,
      "metadata": {
        "colab": {
          "base_uri": "https://localhost:8080/",
          "height": 259
        },
        "id": "uc5QahH-ftZa",
        "outputId": "e4570b6b-2f19-4522-9a50-f40d39b5aeb9"
      },
      "outputs": [
        {
          "name": "stdout",
          "output_type": "stream",
          "text": [
            "         ID  Class\n",
            "0     16000  0    \n",
            "1     16001  0    \n",
            "2     16002  1    \n",
            "3     16003  0    \n",
            "4     16004  1    \n",
            "...     ... ..    \n",
            "4695  20695  0    \n",
            "4696  20696  1    \n",
            "4697  20697  0    \n",
            "4698  20698  0    \n",
            "4699  20699  0    \n",
            "\n",
            "[4700 rows x 2 columns]\n"
          ]
        }
      ],
      "source": [
        "print(data_test)"
      ]
    },
    {
      "cell_type": "code",
      "execution_count": null,
      "metadata": {
        "id": "LvmDUaQgfxBa"
      },
      "outputs": [],
      "source": [
        "data_test.to_csv(\"/content/drive/My Drive/NNFL/NLP/Lab4/day5_model_campusID_1.csv\",index = False)"
      ]
    },
    {
      "cell_type": "code",
      "execution_count": null,
      "metadata": {
        "id": "mC9Ub1ANf1Sb"
      },
      "outputs": [],
      "source": [
        "malstm.save_weights(\"/content/drive/My Drive/NNFL/NLP/Lab4/day5_model_campusID_1.h5\")"
      ]
    },
    {
      "cell_type": "code",
      "execution_count": null,
      "metadata": {
        "colab": {
          "base_uri": "https://localhost:8080/",
          "height": 124
        },
        "id": "OzkaTGsIHV4B",
        "outputId": "3b785bc1-ec4a-4df2-b010-c548db473272"
      },
      "outputs": [
        {
          "name": "stdout",
          "output_type": "stream",
          "text": [
            "Go to this URL in a browser: https://accounts.google.com/o/oauth2/auth?client_id=947318989803-6bn6qk8qdgf4n4g3pfee6491hc0brc4i.apps.googleusercontent.com&redirect_uri=urn%3aietf%3awg%3aoauth%3a2.0%3aoob&response_type=code&scope=email%20https%3a%2f%2fwww.googleapis.com%2fauth%2fdocs.test%20https%3a%2f%2fwww.googleapis.com%2fauth%2fdrive%20https%3a%2f%2fwww.googleapis.com%2fauth%2fdrive.photos.readonly%20https%3a%2f%2fwww.googleapis.com%2fauth%2fpeopleapi.readonly\n",
            "\n",
            "Enter your authorization code:\n",
            "··········\n",
            "Mounted at /content/drive\n"
          ]
        }
      ],
      "source": [
        "from google.colab import drive\n",
        "drive.mount('/content/drive')"
      ]
    },
    {
      "cell_type": "code",
      "execution_count": null,
      "metadata": {
        "colab": {
          "base_uri": "https://localhost:8080/",
          "height": 52
        },
        "id": "mszSRTKUhe06",
        "outputId": "134526dd-421a-46c0-f436-1cbc50704124"
      },
      "outputs": [
        {
          "name": "stdout",
          "output_type": "stream",
          "text": [
            "100% 36.7k/36.7k [00:04<00:00, 9.13kB/s]\n",
            "Successfully submitted to NNFL Lab-4"
          ]
        }
      ],
      "source": [
        "!kaggle competitions submit -c nnfl-lab-4 -f /content/drive/My\\ Drive/NNFL/NLP/Lab4/day5_model_campusID_1.csv -m \"Lab4/day5_model_campusID_1.h5\""
      ]
    },
    {
      "cell_type": "code",
      "execution_count": null,
      "metadata": {
        "id": "kol1hv8Shh1a"
      },
      "outputs": [],
      "source": []
    }
  ],
  "metadata": {
    "accelerator": "GPU",
    "colab": {
      "provenance": []
    },
    "kernelspec": {
      "display_name": "Python 3",
      "language": "python",
      "name": "python3"
    },
    "language_info": {
      "name": "python",
      "version": "3.9.2 (default, Feb 19 2021, 17:43:04) \n[Clang 12.0.0 (clang-1200.0.32.29)]"
    },
    "vscode": {
      "interpreter": {
        "hash": "aee8b7b246df8f9039afb4144a1f6fd8d2ca17a180786b69acc140d282b71a49"
      }
    }
  },
  "nbformat": 4,
  "nbformat_minor": 0
}
